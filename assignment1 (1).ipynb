{
 "cells": [
  {
   "cell_type": "code",
   "execution_count": 6,
   "id": "96850c18-9915-4408-9b51-714e762df51a",
   "metadata": {},
   "outputs": [],
   "source": [
    "# ASSIGNMENT 1"
   ]
  },
  {
   "cell_type": "code",
   "execution_count": 1,
   "id": "5d75ea4a-39ea-42cb-bad4-5b71b0b33d9b",
   "metadata": {},
   "outputs": [],
   "source": [
    "#TOPIC: Python Basics Variable"
   ]
  },
  {
   "cell_type": "code",
   "execution_count": 10,
   "id": "ac248b18-f3b4-4fb4-96ed-20e54038d4e8",
   "metadata": {},
   "outputs": [],
   "source": [
    "#1. Declare two variables, `x` and `y`, and assign them integer values. Swap the\n",
    "#values of these variables without using any temporary variable.\n",
    "x=100\n",
    "y=200\n",
    "x,y=y,x"
   ]
  },
  {
   "cell_type": "code",
   "execution_count": 11,
   "id": "d027f59c-db1f-413c-8aab-570e0b5451ab",
   "metadata": {},
   "outputs": [
    {
     "data": {
      "text/plain": [
       "200"
      ]
     },
     "execution_count": 11,
     "metadata": {},
     "output_type": "execute_result"
    }
   ],
   "source": [
    "x"
   ]
  },
  {
   "cell_type": "code",
   "execution_count": 12,
   "id": "48d0e6d1-887b-418c-ba2d-f77c8656930f",
   "metadata": {},
   "outputs": [
    {
     "data": {
      "text/plain": [
       "100"
      ]
     },
     "execution_count": 12,
     "metadata": {},
     "output_type": "execute_result"
    }
   ],
   "source": [
    "y"
   ]
  },
  {
   "cell_type": "code",
   "execution_count": 1,
   "id": "561d2f71-a984-4451-81c6-2d72e4698339",
   "metadata": {},
   "outputs": [
    {
     "name": "stdin",
     "output_type": "stream",
     "text": [
      " 28\n",
      " 40\n"
     ]
    },
    {
     "name": "stdout",
     "output_type": "stream",
     "text": [
      "area of rectangle is : 1120\n"
     ]
    }
   ],
   "source": [
    "#2. Create a program that calculates the area of a rectangle. Take the length and\n",
    "#  width as inputs from the user and store them in variables. Calculate and display the area.\n",
    "length=int(input())\n",
    "width=int(input())\n",
    "area=length*width\n",
    "print(\"area of rectangle is :\" , area)"
   ]
  },
  {
   "cell_type": "code",
   "execution_count": 2,
   "id": "54f3814f-1f5e-4f8b-ba7e-b30080e76dbb",
   "metadata": {},
   "outputs": [
    {
     "name": "stdin",
     "output_type": "stream",
     "text": [
      " 29\n"
     ]
    },
    {
     "name": "stdout",
     "output_type": "stream",
     "text": [
      "temperature in farenheit is :  84.2\n"
     ]
    }
   ],
   "source": [
    "#3. Write a Python program that converts temperatures from Celsius to\n",
    "#   Fahrenheit. Take the temperature in Celsius as input, store it in a variable,\n",
    "#   convert it to Fahrenheit, and display the result.\n",
    "celsius=int(input())\n",
    "farenheit=celsius*(9/5)+32\n",
    "print(\"temperature in farenheit is : \",farenheit)"
   ]
  },
  {
   "cell_type": "code",
   "execution_count": 19,
   "id": "79b44c8c-2b1a-4eb5-8373-4d3fc6bfd00d",
   "metadata": {},
   "outputs": [],
   "source": [
    "#   TOPIC: String Based Questions"
   ]
  },
  {
   "cell_type": "code",
   "execution_count": 3,
   "id": "95fc3603-a319-4a32-b83b-10cabe3e7d83",
   "metadata": {},
   "outputs": [
    {
     "name": "stdin",
     "output_type": "stream",
     "text": [
      " it is my first assignment\n"
     ]
    },
    {
     "name": "stdout",
     "output_type": "stream",
     "text": [
      "the length of string is :  25\n"
     ]
    }
   ],
   "source": [
    "#  1. Write a Python program that takes a string as input and prints the length of the string\n",
    "a=input()\n",
    "length = len(a)\n",
    "print(\"the length of string is : \",length)"
   ]
  },
  {
   "cell_type": "code",
   "execution_count": 4,
   "id": "d97ec2f3-54b8-4719-8c37-4c9e38f4c7e5",
   "metadata": {},
   "outputs": [
    {
     "name": "stdin",
     "output_type": "stream",
     "text": [
      " sun rises in the east\n"
     ]
    },
    {
     "name": "stdout",
     "output_type": "stream",
     "text": [
      "the number of vowels in the sentence is :  7\n"
     ]
    }
   ],
   "source": [
    "# 2. Create a program that takes a sentence from the user and counts the number of vowels (a, e, i, o, u) in the string.\n",
    "n=input()\n",
    "a=n.count(\"a\")       \n",
    "e=n.count(\"e\")\n",
    "i=n.count(\"i\")\n",
    "o=n.count(\"o\")\n",
    "u=n.count(\"u\")\n",
    "A=n.count(\"A\")\n",
    "E=n.count(\"E\")\n",
    "I=n.count(\"I\")\n",
    "O=n.count(\"O\")\n",
    "U=n.count(\"U\")\n",
    "vowel = a+e+i+o+u+A+E+I+O+U\n",
    "print(\"the number of vowels in the sentence is : \", vowel)"
   ]
  },
  {
   "cell_type": "code",
   "execution_count": 6,
   "id": "190186ed-bd88-44f7-b354-e6706ca86a40",
   "metadata": {},
   "outputs": [
    {
     "name": "stdin",
     "output_type": "stream",
     "text": [
      " icecream\n"
     ]
    },
    {
     "name": "stdout",
     "output_type": "stream",
     "text": [
      "the reversrd string is :  maerceci\n"
     ]
    }
   ],
   "source": [
    "# 3. Given a string, reverse the order of characters using string slicing and print the reversed string.\n",
    "string = input()\n",
    "h = string[::-1]\n",
    "print(\"the reversrd string is : \",h)"
   ]
  },
  {
   "cell_type": "code",
   "execution_count": 42,
   "id": "2e056073-3363-4764-90fa-4fdeadaf5b24",
   "metadata": {},
   "outputs": [
    {
     "name": "stdin",
     "output_type": "stream",
     "text": [
      " rotor\n"
     ]
    },
    {
     "name": "stdout",
     "output_type": "stream",
     "text": [
      "it is palindrome\n"
     ]
    }
   ],
   "source": [
    "#4.  Write a program that takes a string as input and checks if it is a palindrome (reads the same forwards and backwards).\n",
    "a=input()\n",
    "if a[::-1]==a:\n",
    "    print(\"it is palindrome\")\n",
    "else:\n",
    "    print(\"it is not a palindrome\")\n"
   ]
  },
  {
   "cell_type": "code",
   "execution_count": 7,
   "id": "22c30ce0-2ffe-4db1-b31a-ac5ef72f7d1e",
   "metadata": {},
   "outputs": [
    {
     "name": "stdin",
     "output_type": "stream",
     "text": [
      "enter the string: sun rises in the east\n"
     ]
    },
    {
     "name": "stdout",
     "output_type": "stream",
     "text": [
      "the modified string is :  sunrisesintheeast\n"
     ]
    }
   ],
   "source": [
    "# 5. Create a program that takes a string as input and removes all the spaces from\n",
    "# it. Print the modified string without spaces.\n",
    "a=input(\"enter the string:\")\n",
    "modified_string=a.replace(\" \",\"\")\n",
    "print(\"the modified string is : \",modified_string)"
   ]
  },
  {
   "cell_type": "code",
   "execution_count": null,
   "id": "dca4df38-7c02-492f-83e2-c94a1fe165e3",
   "metadata": {},
   "outputs": [],
   "source": []
  }
 ],
 "metadata": {
  "kernelspec": {
   "display_name": "Python 3 (ipykernel)",
   "language": "python",
   "name": "python3"
  },
  "language_info": {
   "codemirror_mode": {
    "name": "ipython",
    "version": 3
   },
   "file_extension": ".py",
   "mimetype": "text/x-python",
   "name": "python",
   "nbconvert_exporter": "python",
   "pygments_lexer": "ipython3",
   "version": "3.10.8"
  }
 },
 "nbformat": 4,
 "nbformat_minor": 5
}
